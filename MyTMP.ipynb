{
 "cells": [
  {
   "cell_type": "code",
   "execution_count": 2,
   "id": "initial_id",
   "metadata": {
    "collapsed": true,
    "ExecuteTime": {
     "end_time": "2025-03-07T08:41:33.952411200Z",
     "start_time": "2025-03-07T08:41:33.940230800Z"
    }
   },
   "outputs": [
    {
     "name": "stdout",
     "output_type": "stream",
     "text": [
      "均值: 54.77777777777778\n",
      "中位数: 56\n",
      "标准差: 21.657832957040316\n",
      "\n",
      "统计值意义解释：\n",
      "均值是数据集所有数值的总和除以数据个数得到的结果，它代表了数据的平均水平。在这个数据集中，均值为 54.78，说明数据整体的平均大小大概是这个数值。\n",
      "中位数是将数据集按升序或降序排列后，位于中间位置的数值。如果数据集的数量是奇数，中位数就是中间的那个数；如果是偶数，中位数是中间两个数的平均值。这里中位数是 56.00，它可以避免极端值的影响，更能反映数据的中间水平。\n",
      "标准差衡量的是数据相对于均值的离散程度。标准差越大，说明数据越分散；标准差越小，说明数据越集中在均值附近。此数据集的标准差为 21.66，反映了数据偏离均值的平均程度。\n"
     ]
    }
   ],
   "source": [
    "import statistics\n",
    "\n",
    "# 定义数据集\n",
    "data = [23, 45, 67, 89, 23, 56, 78, 45, 67]\n",
    "\n",
    "# 计算均值\n",
    "mean = statistics.mean(data)\n",
    "# 计算中位数\n",
    "median = statistics.median(data)\n",
    "# 计算标准差\n",
    "std_dev = statistics.pstdev(data)\n",
    "\n",
    "print(f\"均值: {mean}\")\n",
    "print(f\"中位数: {median}\")\n",
    "print(f\"标准差: {std_dev}\")\n",
    "\n",
    "# 解释统计值的意义\n",
    "print(\"\\n统计值意义解释：\")\n",
    "print(\"均值是数据集所有数值的总和除以数据个数得到的结果，它代表了数据的平均水平。在这个数据集中，均值为 {:.2f}，说明数据整体的平均大小大概是这个数值。\".format(mean))\n",
    "print(\"中位数是将数据集按升序或降序排列后，位于中间位置的数值。如果数据集的数量是奇数，中位数就是中间的那个数；如果是偶数，中位数是中间两个数的平均值。这里中位数是 {:.2f}，它可以避免极端值的影响，更能反映数据的中间水平。\".format(median))\n",
    "print(\"标准差衡量的是数据相对于均值的离散程度。标准差越大，说明数据越分散；标准差越小，说明数据越集中在均值附近。此数据集的标准差为 {:.2f}，反映了数据偏离均值的平均程度。\".format(std_dev))"
   ]
  },
  {
   "cell_type": "code",
   "execution_count": null,
   "outputs": [],
   "source": [],
   "metadata": {
    "collapsed": false
   },
   "id": "1a7718bbf4b8449c"
  }
 ],
 "metadata": {
  "kernelspec": {
   "display_name": "Python 3",
   "language": "python",
   "name": "python3"
  },
  "language_info": {
   "codemirror_mode": {
    "name": "ipython",
    "version": 2
   },
   "file_extension": ".py",
   "mimetype": "text/x-python",
   "name": "python",
   "nbconvert_exporter": "python",
   "pygments_lexer": "ipython2",
   "version": "2.7.6"
  }
 },
 "nbformat": 4,
 "nbformat_minor": 5
}
